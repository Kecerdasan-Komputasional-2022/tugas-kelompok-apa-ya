{
 "cells": [
  {
   "cell_type": "markdown",
   "metadata": {},
   "source": [
    "# Tugas CNN (Convolutional Neural Network)\n",
    "### Nama Anggota Kelompok\n",
    "1. Fadel Pramaputra Maulana     5025201260\n",
    "2. Muhammad Lintang Panjerino   5025201045\n",
    "3. Fitra Agung Diassyah Putra   5025201072\n",
    "4. Mohammad Nouval Bachrezi     5025201030\n",
    "\n",
    "### Datasets\n",
    "https://www.cs.toronto.edu/~kriz/cifar.html"
   ]
  },
  {
   "cell_type": "code",
   "execution_count": 5,
   "metadata": {},
   "outputs": [],
   "source": [
    "# menyiapkan library yang dibutuhkan\n",
    "\n",
    "from tensorflow.keras import datasets, layers, models\n",
    "import matplotlib.pyplot as plt\n",
    "import numpy as np"
   ]
  },
  {
   "cell_type": "code",
   "execution_count": 12,
   "metadata": {},
   "outputs": [
    {
     "name": "stdout",
     "output_type": "stream",
     "text": [
      "(50000, 32, 32, 3)\n",
      "(10000, 32, 32, 3)\n"
     ]
    }
   ],
   "source": [
    "# menyiapkan data yang dibutuhkan\n",
    "(X_train, y_train), (X_test, y_test) = datasets.cifar10.load_data()\n",
    "print(X_train.shape)\n",
    "print(X_test.shape)"
   ]
  },
  {
   "cell_type": "code",
   "execution_count": 7,
   "metadata": {},
   "outputs": [
    {
     "data": {
      "text/plain": [
       "array([6, 9, 9, ..., 9, 1, 1], dtype=uint8)"
      ]
     },
     "execution_count": 7,
     "metadata": {},
     "output_type": "execute_result"
    }
   ],
   "source": [
    "# melakukan reshap y_train menjadi 1d array karena data merupakan index dari masing masing class gambar data\n",
    "y_train = y_train.reshape(-1,)\n",
    "y_train"
   ]
  },
  {
   "cell_type": "code",
   "execution_count": 8,
   "metadata": {},
   "outputs": [],
   "source": [
    "# mendefinisikan class\n",
    "classes = [\"airplane\", \"automobile\", \"bird\", \"cat\", \"deer\", \"dog\", \"frog\", \"horse\", \"ship\", \"truck\"]"
   ]
  },
  {
   "cell_type": "code",
   "execution_count": 9,
   "metadata": {},
   "outputs": [],
   "source": [
    "# membagi training sample dan testing sample dengan 255 (based on RGB value) untuk normalized data\n",
    "X_train = X_train/255\n",
    "X_test = X_test/255"
   ]
  },
  {
   "cell_type": "code",
   "execution_count": 21,
   "metadata": {},
   "outputs": [
    {
     "name": "stdout",
     "output_type": "stream",
     "text": [
      "Epoch 1/20\n",
      "1563/1563 [==============================] - 16s 10ms/step - loss: 1.7994 - accuracy: 0.3964\n",
      "Epoch 2/20\n",
      "1563/1563 [==============================] - 16s 10ms/step - loss: 1.2968 - accuracy: 0.5399\n",
      "Epoch 3/20\n",
      "1563/1563 [==============================] - 16s 10ms/step - loss: 1.1384 - accuracy: 0.6018\n",
      "Epoch 4/20\n",
      "1563/1563 [==============================] - 16s 10ms/step - loss: 1.0374 - accuracy: 0.6432\n",
      "Epoch 5/20\n",
      "1563/1563 [==============================] - 16s 10ms/step - loss: 0.9612 - accuracy: 0.6700\n",
      "Epoch 6/20\n",
      "1563/1563 [==============================] - 16s 10ms/step - loss: 0.9008 - accuracy: 0.6915\n",
      "Epoch 7/20\n",
      "1563/1563 [==============================] - 16s 10ms/step - loss: 0.8424 - accuracy: 0.7113\n",
      "Epoch 8/20\n",
      "1563/1563 [==============================] - 16s 10ms/step - loss: 0.7956 - accuracy: 0.7294\n",
      "Epoch 9/20\n",
      "1563/1563 [==============================] - 16s 10ms/step - loss: 0.7539 - accuracy: 0.7443\n",
      "Epoch 10/20\n",
      "1563/1563 [==============================] - 16s 10ms/step - loss: 0.7203 - accuracy: 0.7542\n",
      "Epoch 11/20\n",
      "1563/1563 [==============================] - 16s 10ms/step - loss: 0.6888 - accuracy: 0.7653\n",
      "Epoch 12/20\n",
      "1563/1563 [==============================] - 16s 10ms/step - loss: 0.6554 - accuracy: 0.7745\n",
      "Epoch 13/20\n",
      "1563/1563 [==============================] - 16s 10ms/step - loss: 0.6275 - accuracy: 0.7861\n",
      "Epoch 14/20\n",
      "1563/1563 [==============================] - 16s 10ms/step - loss: 0.6121 - accuracy: 0.7912\n",
      "Epoch 15/20\n",
      "1563/1563 [==============================] - 16s 10ms/step - loss: 0.5904 - accuracy: 0.7996\n",
      "Epoch 16/20\n",
      "1563/1563 [==============================] - 16s 10ms/step - loss: 0.5713 - accuracy: 0.8077\n",
      "Epoch 17/20\n",
      "1563/1563 [==============================] - 16s 10ms/step - loss: 0.5544 - accuracy: 0.8134\n",
      "Epoch 18/20\n",
      "1563/1563 [==============================] - 16s 10ms/step - loss: 0.5361 - accuracy: 0.8183\n",
      "Epoch 19/20\n",
      "1563/1563 [==============================] - 16s 10ms/step - loss: 0.5173 - accuracy: 0.8238\n",
      "Epoch 20/20\n",
      "1563/1563 [==============================] - 16s 10ms/step - loss: 0.5015 - accuracy: 0.8304\n"
     ]
    }
   ],
   "source": [
    "# membuat model cnn\n",
    "cnn = models.Sequential([\n",
    "    layers.Conv2D(filters=32, kernel_size=(3, 3), activation='relu', input_shape=(32, 32, 3)),\n",
    "    layers.MaxPooling2D((2, 2)),\n",
    "    \n",
    "    layers.Conv2D(filters=64, kernel_size=(3, 3), activation='relu'),\n",
    "    layers.MaxPooling2D((2, 2)),\n",
    "    \n",
    "    layers.Flatten(),\n",
    "    layers.Dense(64, activation='relu'),\n",
    "    layers.Dense(10, activation='softmax')\n",
    "])\n",
    "\n",
    "# menggunakan sparse karena nilai dari y_train dan y_test bukan merupakan binary classification\n",
    "# melainkan merupakan index value\n",
    "cnn.compile(optimizer='adam',\n",
    "              loss='sparse_categorical_crossentropy', \n",
    "              metrics=['accuracy'])\n",
    "              \n",
    "# menggunakan 20 epochs\n",
    "history = cnn.fit(X_train, y_train, epochs=20)"
   ]
  },
  {
   "cell_type": "code",
   "execution_count": 22,
   "metadata": {},
   "outputs": [
    {
     "data": {
      "image/png": "[encoded data removed]",
      "text/plain": [
       "<Figure size 640x480 with 1 Axes>"
      ]
     },
     "metadata": {},
     "output_type": "display_data"
    }
   ],
   "source": [
    "# dapat dilihat dari plotingan dibawah semakin banyak epochs maka data akan semakin akurat\n",
    "plt.plot(history.history['loss'], color='b', label=\"validation loss\")\n",
    "plt.title(\"Test Loss\")\n",
    "plt.xlabel(\"Number of Epochs\")\n",
    "plt.ylabel(\"Loss\")\n",
    "plt.legend()\n",
    "plt.show()"
   ]
  },
  {
   "cell_type": "code",
   "execution_count": 23,
   "metadata": {},
   "outputs": [
    {
     "name": "stdout",
     "output_type": "stream",
     "text": [
      "313/313 [==============================] - 1s 4ms/step - loss: 1.4570 - accuracy: 0.6431\n"
     ]
    },
    {
     "data": {
      "text/plain": [
       "[1.4570292234420776, 0.6431000232696533]"
      ]
     },
     "execution_count": 23,
     "metadata": {},
     "output_type": "execute_result"
    }
   ],
   "source": [
    "# evaluasi akurasi dan loss\n",
    "cnn.evaluate(X_test,y_test)"
   ]
  },
  {
   "cell_type": "code",
   "execution_count": 24,
   "metadata": {},
   "outputs": [
    {
     "name": "stdout",
     "output_type": "stream",
     "text": [
      "313/313 [==============================] - 1s 4ms/step\n",
      "              precision    recall  f1-score   support\n",
      "\n",
      "           0       0.65      0.74      0.69      1000\n",
      "           1       0.83      0.72      0.77      1000\n",
      "           2       0.53      0.55      0.54      1000\n",
      "           3       0.47      0.36      0.41      1000\n",
      "           4       0.55      0.56      0.56      1000\n",
      "           5       0.52      0.60      0.56      1000\n",
      "           6       0.69      0.75      0.72      1000\n",
      "           7       0.70      0.69      0.70      1000\n",
      "           8       0.76      0.73      0.75      1000\n",
      "           9       0.74      0.74      0.74      1000\n",
      "\n",
      "    accuracy                           0.64     10000\n",
      "   macro avg       0.64      0.64      0.64     10000\n",
      "weighted avg       0.64      0.64      0.64     10000\n",
      "\n"
     ]
    }
   ],
   "source": [
    "# data akurasi per class\n",
    "from sklearn.metrics import classification_report\n",
    "import numpy as np\n",
    "y_pred = cnn.predict(X_test)\n",
    "y_pred_classes = [np.argmax(element) for element in y_pred]\n",
    "\n",
    "print(classification_report(y_test, y_pred_classes))"
   ]
  },
  {
   "cell_type": "code",
   "execution_count": 27,
   "metadata": {},
   "outputs": [
    {
     "name": "stdout",
     "output_type": "stream",
     "text": [
      "313/313 [==============================] - 1s 4ms/step\n",
      "10 data X_test menghasilkan y_pred berikut\n",
      " [3, 1, 0, 0, 6, 6, 6, 6, 3, 9]\n"
     ]
    }
   ],
   "source": [
    "# melakukan testing, menggunakan 10 data pertama\n",
    "n_test = 10\n",
    "y_pred = cnn.predict(X_test)\n",
    "y_classes = [np.argmax(val) for val in y_pred]\n",
    "print(\"10 data X_test menghasilkan y_pred berikut\\n\", y_classes[:n_test])"
   ]
  },
  {
   "cell_type": "code",
   "execution_count": 28,
   "metadata": {},
   "outputs": [
    {
     "name": "stdout",
     "output_type": "stream",
     "text": [
      "10 data y_test sesungguhnya\n",
      " [3 8 8 0 6 6 1 6 3 1]\n"
     ]
    }
   ],
   "source": [
    "y_test = y_test.reshape(-1,)\n",
    "print(\"10 data y_test sesungguhnya\\n\", y_test[:n_test])"
   ]
  },
  {
   "cell_type": "code",
   "execution_count": 30,
   "metadata": {},
   "outputs": [
    {
     "name": "stdout",
     "output_type": "stream",
     "text": [
      "cnn y = frog\n",
      "actual y = frog\n"
     ]
    },
    {
     "data": {
      "image/png": "[encoded data removed]",
      "text/plain": [
       "<Figure size 1500x200 with 1 Axes>"
      ]
     },
     "metadata": {},
     "output_type": "display_data"
    }
   ],
   "source": [
    "# testing\n",
    "# pada index 1 hasil y_pred sesuai dengan y_test\n",
    "index = 4\n",
    "\n",
    "plt.figure(figsize=(15,2))\n",
    "plt.imshow(X_test[index])\n",
    "plt.xlabel(classes[y_test[index]])\n",
    "\n",
    "print(\"cnn y =\", classes[y_test[index]])\n",
    "print(\"actual y =\", classes[y_classes[index]])"
   ]
  },
  {
   "cell_type": "code",
   "execution_count": 35,
   "metadata": {},
   "outputs": [
    {
     "name": "stdout",
     "output_type": "stream",
     "text": [
      "actual y = automobile\n",
      "cnn y = frog\n"
     ]
    },
    {
     "data": {
      "image/png": "[encoded data removed]",
      "text/plain": [
       "<Figure size 1500x200 with 1 Axes>"
      ]
     },
     "metadata": {},
     "output_type": "display_data"
    }
   ],
   "source": [
    "# testing\n",
    "# pada index 6 hasil y_pred tidak sesuai dengan y_test\n",
    "index = 6\n",
    "\n",
    "plt.figure(figsize=(15,2))\n",
    "plt.imshow(X_test[index])\n",
    "plt.xlabel(classes[y_test[index]])\n",
    "\n",
    "print(\"actual y =\", classes[y_test[index]])\n",
    "print(\"cnn y =\", classes[y_classes[index]])"
   ]
  }
 ],
 "metadata": {
  "kernelspec": {
   "display_name": "Python 3.10.6 64-bit",
   "language": "python",
   "name": "python3"
  },
  "language_info": {
   "codemirror_mode": {
    "name": "ipython",
    "version": 3
   },
   "file_extension": ".py",
   "mimetype": "text/x-python",
   "name": "python",
   "nbconvert_exporter": "python",
   "pygments_lexer": "ipython3",
   "version": "3.10.6"
  },
  "orig_nbformat": 4,
  "vscode": {
   "interpreter": {
    "hash": "d99a3f7b344b3c3107482760db15f42178bfad658d282ab0a919b76809e13cb5"
   }
  }
 },
 "nbformat": 4,
 "nbformat_minor": 2
}
